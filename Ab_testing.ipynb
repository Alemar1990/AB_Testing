{
 "cells": [
  {
   "cell_type": "markdown",
   "metadata": {},
   "source": [
    "# A/B testing"
   ]
  },
  {
   "cell_type": "code",
   "execution_count": 1,
   "metadata": {},
   "outputs": [],
   "source": [
    "import pandas as pd\n",
    "import statsmodels.stats.api as sms\n",
    "import matplotlib.pyplot as plt\n",
    "import seaborn as sns\n",
    "from math import ceil\n",
    "import numpy as np\n",
    "import scipy.stats as stats\n",
    "from statsmodels.stats.proportion import proportions_ztest, proportion_confint"
   ]
  },
  {
   "cell_type": "raw",
   "metadata": {},
   "source": [
    "The most successful companies today are the ones that know their customers so well that they can anticipate their needs. Customer analytics and in particular A/B Testing are crucial parts of leveraging quantitative know-how to help make business decisions that generate value. A/B testing is one of the most important tools for optimizing most things we interact with on our computers, phones and tablets. From website layouts to social media ads and product features, every button, banner and call to action has probably been A/B tested. "
   ]
  },
  {
   "cell_type": "markdown",
   "metadata": {},
   "source": [
    "### What is A/B testing?"
   ]
  },
  {
   "cell_type": "raw",
   "metadata": {},
   "source": [
    "A/B testing (aka bucket-tests or split-run testing) is a randomized experiment with two variants, A and B, which includes the application of statistical hypothesis testing or two-sample hypothesis testing. The goal of the A/B testing is to compare two versions of a single variable by testing a subject’s response to variant A against B and determining which one is the most effective.\n",
    "\n",
    "You compare two versions, A and B, of a single variable, which are identical except for one variation that might significantly affect the outcome, say, user behavior. For example, A might be the currently used solution, in this case, it’s called “control,” and B is a modified version of an existing solution, in this case, it’s called “treatment.”"
   ]
  },
  {
   "cell_type": "markdown",
   "metadata": {},
   "source": [
    "### A/B Testing is important because:"
   ]
  },
  {
   "cell_type": "raw",
   "metadata": {},
   "source": [
    "Testing different variables and changes that you make to your project is crucial, otherwise, you’ll never know how effective your changes are or what has essentially caused the difference in the outcome. But A/B testing can do a lot more than prove how changes have impacted the outcome of your solution or, say, marketing campaign or conversion rates. Speaking of A/B testing used in user experience research and website marketing campaigns, it has long-term benefits that ultimately lead to an improvement in user engagement, better content, reduced bounce rates, higher conversion values, and increased sales. Also:\n",
    "\n",
    "- Removes the need for guessing or relying on intuition\n",
    "- Provides accurate answers quickly\n",
    "- Allows for rapid iteration on ideas\n",
    "- Establishes causal relationships — not just correlations"
   ]
  },
  {
   "cell_type": "markdown",
   "metadata": {},
   "source": [
    "### Steps to design an A/B Test"
   ]
  },
  {
   "cell_type": "raw",
   "metadata": {},
   "source": [
    "1. Research\n",
    "2. Choose Metrics\n",
    "3. Define Metrics\n",
    "4. Determine Sample Size Required\n",
    "5. Finalize Experiment Design"
   ]
  },
  {
   "cell_type": "markdown",
   "metadata": {},
   "source": [
    "### Steps to implement an A/B Test"
   ]
  },
  {
   "cell_type": "raw",
   "metadata": {},
   "source": [
    "1. Designing of the experiment\n",
    "2. Collecting and preparing the data\n",
    "3. Visualising the results\n",
    "4. Testing the hypothesis\n",
    "5. Drawing conclusions"
   ]
  },
  {
   "cell_type": "markdown",
   "metadata": {},
   "source": [
    "### Scenario for the study"
   ]
  },
  {
   "cell_type": "raw",
   "metadata": {},
   "source": [
    "The UX designer worked hard on a new version of the product page, with the hope that it will lead to a higher conversion rate. The product manager (PM) told you that the current conversion rate is about 12% on average throughout the year, and the team will accept the change with an increase of 1%, meaning that the new design will be considered a success if it raises the conversion rate to 13%."
   ]
  },
  {
   "cell_type": "markdown",
   "metadata": {},
   "source": [
    "#### 1. Designing of the experiment"
   ]
  },
  {
   "cell_type": "raw",
   "metadata": {},
   "source": [
    "We would use a two-tailed test because we are not sure if the new design will perform better or worse. (Bilateral)\n",
    "\n",
    "- Null Hypothesis (Ho): cr = cro\n",
    "- Alternative Hypothesis (Ha): cr ≠ cro\n",
    "\n",
    "where cr and crₒ stand for the conversion rate of the new and old design, respectively. \n",
    "We’ll also set a confidence level of 95% (α = 0.05) \n",
    "\n",
    "The α value is a threshold, by which we say “if the p-value is lower than α, then we reject the Null hypothesis because the difference is statistically significant. Since our α=0.05 (indicating 5% probability), our confidence level (1 — α) is 95%.\n",
    "\n",
    "we want to be 95% confident it is statistically different from the conversion rate of our old design, before we decide to reject the Null hypothesis Hₒ."
   ]
  },
  {
   "cell_type": "markdown",
   "metadata": {},
   "source": [
    "#### 2. Collecting and preparing the data"
   ]
  },
  {
   "cell_type": "raw",
   "metadata": {},
   "source": [
    "For our test, we will use two groups:\n",
    "    - A control group - They'll be shown the old design\n",
    "    - A treatment group - They'll be shown the new design\n",
    "    \n",
    "These groups are our independent variables. We use control groups to compare their results directly with the treatment group. That way other variables don't affect our study.\n",
    "\n",
    "For our dependent Variable. We will use the conversion rate that is what we are trying to measure. A way we can code this is by each user session with a binary variable:\n",
    "0 - The user did not buy the product during this user session\n",
    "1 - The user bought the product during this user session\n",
    "\n",
    "This way, we can easily calculate the mean for each group to get the conversion rate of each design."
   ]
  },
  {
   "cell_type": "code",
   "execution_count": 2,
   "metadata": {},
   "outputs": [
    {
     "data": {
      "text/html": [
       "<div>\n",
       "<style scoped>\n",
       "    .dataframe tbody tr th:only-of-type {\n",
       "        vertical-align: middle;\n",
       "    }\n",
       "\n",
       "    .dataframe tbody tr th {\n",
       "        vertical-align: top;\n",
       "    }\n",
       "\n",
       "    .dataframe thead th {\n",
       "        text-align: right;\n",
       "    }\n",
       "</style>\n",
       "<table border=\"1\" class=\"dataframe\">\n",
       "  <thead>\n",
       "    <tr style=\"text-align: right;\">\n",
       "      <th></th>\n",
       "      <th>user_id</th>\n",
       "      <th>timestamp</th>\n",
       "      <th>group</th>\n",
       "      <th>landing_page</th>\n",
       "      <th>converted</th>\n",
       "    </tr>\n",
       "  </thead>\n",
       "  <tbody>\n",
       "    <tr>\n",
       "      <th>0</th>\n",
       "      <td>851104</td>\n",
       "      <td>2017-01-21 22:11:48.556739</td>\n",
       "      <td>control</td>\n",
       "      <td>old_page</td>\n",
       "      <td>0</td>\n",
       "    </tr>\n",
       "    <tr>\n",
       "      <th>1</th>\n",
       "      <td>804228</td>\n",
       "      <td>2017-01-12 08:01:45.159739</td>\n",
       "      <td>control</td>\n",
       "      <td>old_page</td>\n",
       "      <td>0</td>\n",
       "    </tr>\n",
       "    <tr>\n",
       "      <th>2</th>\n",
       "      <td>661590</td>\n",
       "      <td>2017-01-11 16:55:06.154213</td>\n",
       "      <td>treatment</td>\n",
       "      <td>new_page</td>\n",
       "      <td>0</td>\n",
       "    </tr>\n",
       "    <tr>\n",
       "      <th>3</th>\n",
       "      <td>853541</td>\n",
       "      <td>2017-01-08 18:28:03.143765</td>\n",
       "      <td>treatment</td>\n",
       "      <td>new_page</td>\n",
       "      <td>0</td>\n",
       "    </tr>\n",
       "    <tr>\n",
       "      <th>4</th>\n",
       "      <td>864975</td>\n",
       "      <td>2017-01-21 01:52:26.210827</td>\n",
       "      <td>control</td>\n",
       "      <td>old_page</td>\n",
       "      <td>1</td>\n",
       "    </tr>\n",
       "  </tbody>\n",
       "</table>\n",
       "</div>"
      ],
      "text/plain": [
       "   user_id                   timestamp      group landing_page  converted\n",
       "0   851104  2017-01-21 22:11:48.556739    control     old_page          0\n",
       "1   804228  2017-01-12 08:01:45.159739    control     old_page          0\n",
       "2   661590  2017-01-11 16:55:06.154213  treatment     new_page          0\n",
       "3   853541  2017-01-08 18:28:03.143765  treatment     new_page          0\n",
       "4   864975  2017-01-21 01:52:26.210827    control     old_page          1"
      ]
     },
     "execution_count": 2,
     "metadata": {},
     "output_type": "execute_result"
    }
   ],
   "source": [
    "df = pd.read_csv('ab_data.csv')\n",
    "df.head()"
   ]
  },
  {
   "cell_type": "raw",
   "metadata": {},
   "source": [
    "The dataset has 294478 records in the dataframe, each record represents an user session. The 5 fields are:\n",
    "\n",
    "- user_id -> The user ID of each session\n",
    "- timestamp -> Timestamp for the session\n",
    "- group -> group the user was assigned to\n",
    "- landing_page -> design that the user observed\n",
    "- converted -> Whether the session ended in a conversion or not (binary, 0=not converted, 1=converted)"
   ]
  },
  {
   "cell_type": "markdown",
   "metadata": {},
   "source": [
    "##### Clean dataset"
   ]
  },
  {
   "cell_type": "code",
   "execution_count": 3,
   "metadata": {},
   "outputs": [
    {
     "name": "stdout",
     "output_type": "stream",
     "text": [
      "<class 'pandas.core.frame.DataFrame'>\n",
      "RangeIndex: 294478 entries, 0 to 294477\n",
      "Data columns (total 5 columns):\n",
      " #   Column        Non-Null Count   Dtype \n",
      "---  ------        --------------   ----- \n",
      " 0   user_id       294478 non-null  int64 \n",
      " 1   timestamp     294478 non-null  object\n",
      " 2   group         294478 non-null  object\n",
      " 3   landing_page  294478 non-null  object\n",
      " 4   converted     294478 non-null  int64 \n",
      "dtypes: int64(2), object(3)\n",
      "memory usage: 11.2+ MB\n"
     ]
    }
   ],
   "source": [
    "df.info()"
   ]
  },
  {
   "cell_type": "code",
   "execution_count": 4,
   "metadata": {},
   "outputs": [
    {
     "data": {
      "image/png": "[encoded data removed]",
      "text/plain": [
       "<Figure size 1440x360 with 1 Axes>"
      ]
     },
     "metadata": {
      "needs_background": "light"
     },
     "output_type": "display_data"
    }
   ],
   "source": [
    "plt.figure(figsize=(20,5))\n",
    "sns.heatmap(df.isnull(), cbar=False)\n",
    "plt.show()"
   ]
  },
  {
   "cell_type": "raw",
   "metadata": {},
   "source": [
    "There are not missing values"
   ]
  },
  {
   "cell_type": "code",
   "execution_count": 5,
   "metadata": {},
   "outputs": [
    {
     "data": {
      "text/html": [
       "<div>\n",
       "<style scoped>\n",
       "    .dataframe tbody tr th:only-of-type {\n",
       "        vertical-align: middle;\n",
       "    }\n",
       "\n",
       "    .dataframe tbody tr th {\n",
       "        vertical-align: top;\n",
       "    }\n",
       "\n",
       "    .dataframe thead th {\n",
       "        text-align: right;\n",
       "    }\n",
       "</style>\n",
       "<table border=\"1\" class=\"dataframe\">\n",
       "  <thead>\n",
       "    <tr style=\"text-align: right;\">\n",
       "      <th>landing_page</th>\n",
       "      <th>new_page</th>\n",
       "      <th>old_page</th>\n",
       "    </tr>\n",
       "    <tr>\n",
       "      <th>group</th>\n",
       "      <th></th>\n",
       "      <th></th>\n",
       "    </tr>\n",
       "  </thead>\n",
       "  <tbody>\n",
       "    <tr>\n",
       "      <th>control</th>\n",
       "      <td>1928</td>\n",
       "      <td>145274</td>\n",
       "    </tr>\n",
       "    <tr>\n",
       "      <th>treatment</th>\n",
       "      <td>145311</td>\n",
       "      <td>1965</td>\n",
       "    </tr>\n",
       "  </tbody>\n",
       "</table>\n",
       "</div>"
      ],
      "text/plain": [
       "landing_page  new_page  old_page\n",
       "group                           \n",
       "control           1928    145274\n",
       "treatment       145311      1965"
      ]
     },
     "execution_count": 5,
     "metadata": {},
     "output_type": "execute_result"
    }
   ],
   "source": [
    "pd.crosstab(df['group'], df['landing_page'])"
   ]
  },
  {
   "cell_type": "raw",
   "metadata": {},
   "source": [
    "There is an issue in the dataset. Some users in both groups were exposed to the wrong landing page. The control group should have been exposed to the old landing page while the treatment group should have been exposed to the new page. we have to remove this user for our test. "
   ]
  },
  {
   "cell_type": "code",
   "execution_count": 6,
   "metadata": {},
   "outputs": [
    {
     "data": {
      "text/html": [
       "<div>\n",
       "<style scoped>\n",
       "    .dataframe tbody tr th:only-of-type {\n",
       "        vertical-align: middle;\n",
       "    }\n",
       "\n",
       "    .dataframe tbody tr th {\n",
       "        vertical-align: top;\n",
       "    }\n",
       "\n",
       "    .dataframe thead th {\n",
       "        text-align: right;\n",
       "    }\n",
       "</style>\n",
       "<table border=\"1\" class=\"dataframe\">\n",
       "  <thead>\n",
       "    <tr style=\"text-align: right;\">\n",
       "      <th>landing_page</th>\n",
       "      <th>new_page</th>\n",
       "      <th>old_page</th>\n",
       "    </tr>\n",
       "    <tr>\n",
       "      <th>group</th>\n",
       "      <th></th>\n",
       "      <th></th>\n",
       "    </tr>\n",
       "  </thead>\n",
       "  <tbody>\n",
       "    <tr>\n",
       "      <th>control</th>\n",
       "      <td>0</td>\n",
       "      <td>145274</td>\n",
       "    </tr>\n",
       "    <tr>\n",
       "      <th>treatment</th>\n",
       "      <td>145311</td>\n",
       "      <td>0</td>\n",
       "    </tr>\n",
       "  </tbody>\n",
       "</table>\n",
       "</div>"
      ],
      "text/plain": [
       "landing_page  new_page  old_page\n",
       "group                           \n",
       "control              0    145274\n",
       "treatment       145311         0"
      ]
     },
     "execution_count": 6,
     "metadata": {},
     "output_type": "execute_result"
    }
   ],
   "source": [
    "df = df[(((df['group'] == 'control') & (df['landing_page'] == 'old_page')) | ((df['group'] == 'treatment') & (df['landing_page'] == 'new_page')))].reset_index(drop=True)\n",
    "pd.crosstab(df['group'], df['landing_page'])"
   ]
  },
  {
   "cell_type": "raw",
   "metadata": {},
   "source": [
    "we check if there are duplicated records"
   ]
  },
  {
   "cell_type": "code",
   "execution_count": 7,
   "metadata": {},
   "outputs": [
    {
     "data": {
      "text/plain": [
       "1"
      ]
     },
     "execution_count": 7,
     "metadata": {},
     "output_type": "execute_result"
    }
   ],
   "source": [
    "df['user_id'][df['user_id'].duplicated()].count()"
   ]
  },
  {
   "cell_type": "code",
   "execution_count": 8,
   "metadata": {},
   "outputs": [
    {
     "data": {
      "text/html": [
       "<div>\n",
       "<style scoped>\n",
       "    .dataframe tbody tr th:only-of-type {\n",
       "        vertical-align: middle;\n",
       "    }\n",
       "\n",
       "    .dataframe tbody tr th {\n",
       "        vertical-align: top;\n",
       "    }\n",
       "\n",
       "    .dataframe thead th {\n",
       "        text-align: right;\n",
       "    }\n",
       "</style>\n",
       "<table border=\"1\" class=\"dataframe\">\n",
       "  <thead>\n",
       "    <tr style=\"text-align: right;\">\n",
       "      <th></th>\n",
       "      <th>user_id</th>\n",
       "      <th>timestamp</th>\n",
       "      <th>group</th>\n",
       "      <th>landing_page</th>\n",
       "      <th>converted</th>\n",
       "    </tr>\n",
       "  </thead>\n",
       "  <tbody>\n",
       "    <tr>\n",
       "      <th>2862</th>\n",
       "      <td>773192</td>\n",
       "      <td>2017-01-14 02:55:59.590927</td>\n",
       "      <td>treatment</td>\n",
       "      <td>new_page</td>\n",
       "      <td>0</td>\n",
       "    </tr>\n",
       "  </tbody>\n",
       "</table>\n",
       "</div>"
      ],
      "text/plain": [
       "      user_id                   timestamp      group landing_page  converted\n",
       "2862   773192  2017-01-14 02:55:59.590927  treatment     new_page          0"
      ]
     },
     "execution_count": 8,
     "metadata": {},
     "output_type": "execute_result"
    }
   ],
   "source": [
    "df[df['user_id'].duplicated()]"
   ]
  },
  {
   "cell_type": "code",
   "execution_count": 9,
   "metadata": {},
   "outputs": [
    {
     "name": "stdout",
     "output_type": "stream",
     "text": [
      "<class 'pandas.core.frame.DataFrame'>\n",
      "RangeIndex: 290584 entries, 0 to 290583\n",
      "Data columns (total 5 columns):\n",
      " #   Column        Non-Null Count   Dtype \n",
      "---  ------        --------------   ----- \n",
      " 0   user_id       290584 non-null  int64 \n",
      " 1   timestamp     290584 non-null  object\n",
      " 2   group         290584 non-null  object\n",
      " 3   landing_page  290584 non-null  object\n",
      " 4   converted     290584 non-null  int64 \n",
      "dtypes: int64(2), object(3)\n",
      "memory usage: 11.1+ MB\n"
     ]
    }
   ],
   "source": [
    "df = df[~df['user_id'].duplicated()].reset_index(drop=True)\n",
    "df.info()"
   ]
  },
  {
   "cell_type": "raw",
   "metadata": {},
   "source": [
    "Now our dataset is clear for our test. We started with 294478 records and now we have 290584 records. we drop 3894 records"
   ]
  },
  {
   "cell_type": "code",
   "execution_count": 10,
   "metadata": {},
   "outputs": [
    {
     "name": "stdout",
     "output_type": "stream",
     "text": [
      "Information about groups:\n",
      "-------------------------\n",
      "Users who saw old page Vs. users who saw new page: (%49.99) 145274 - (%50.01) 145310\n",
      "\n",
      "Number of control users who converted on old page:  (%12.04) 17489\n",
      "\n",
      "Number of treatment users who converted on new page:  (%11.88) 17264\n",
      "\n"
     ]
    }
   ],
   "source": [
    "print(\"Information about groups:\")\n",
    "print(\"-------------------------\")\n",
    "print(\"Users who saw old page Vs. users who saw new page: (%{}) {} - (%{}) {}\\n\".format(round((df[df['group'] == 'control'].shape[0]/ df.shape[0])*100,2), \n",
    "                                                                                     df[df['group'] == 'control'].shape[0],\n",
    "                                                                                     round((df[df['group'] == 'treatment'].shape[0]/ df.shape[0])*100,2),\n",
    "                                                                                     df[df['group'] == 'treatment'].shape[0]))\n",
    "print(\"Number of control users who converted on old page:  (%{}) {}\\n\".format(round((df[df['group'] == 'control']['converted'].sum()/ df[df['group'] == 'control'].shape[0])*100,2),\n",
    "                                                                            df[df['group'] == 'control']['converted'].sum()))\n",
    "print(\"Number of treatment users who converted on new page:  (%{}) {}\\n\".format(round((df[df['group'] == 'treatment']['converted'].sum()/ df[df['group'] == 'treatment'].shape[0])*100,2),\n",
    "                                                                            df[df['group'] == 'treatment']['converted'].sum()))\n"
   ]
  },
  {
   "cell_type": "markdown",
   "metadata": {},
   "source": [
    "##### Check sample size"
   ]
  },
  {
   "cell_type": "raw",
   "metadata": {},
   "source": [
    "The number of users that we decide to capture in each group will have an effect on the precision of our estimated conversion rates. The larger the sample size, the more precise our estimates. The smaller our confidence intervals, the higher the chance to detect a difference in the two groups.To determine the sample size required, we need four test parameters to set: \n",
    "\n",
    "the baseline rate -> current conversion rate (0.1204 -> 12.04%)\n",
    "\n",
    "significance rate -> significant difference in conversion rate (0.01 -> 0.1204 + 0.01 = 0.1304 -> 13.04%)\n",
    "\n",
    "Effect size -> How big of a difference we expect there to be between the conversion rates\n",
    "\n",
    "Power of the test (1 — β) —> This represents the probability of finding a statistical difference between the groups in our test when a difference is actually present.This is                              usually set at 0.8 by convention.\n",
    "\n",
    "Alpha value (α) -> Confidence level, the critical value we set earlier to 0.05\n",
    "\n",
    "Having set the power parameter to 0.8 in practice means that if there exists an actual difference in conversion rate between our designs, assuming the difference is the one we estimated (12% vs. 14%), we have about 80% chance to detect it as statistically significant in our test with the sample size we calculated."
   ]
  },
  {
   "cell_type": "code",
   "execution_count": 11,
   "metadata": {},
   "outputs": [
    {
     "name": "stdout",
     "output_type": "stream",
     "text": [
      "Required sample size for the test by group: 17209\n"
     ]
    }
   ],
   "source": [
    "baseline_rate = df[df['group'] == 'control']['converted'].sum()/ df[df['group'] == 'control'].shape[0]\n",
    "significant_rate = 0.01\n",
    "effect_size = sms.proportion_effectsize(baseline_rate, baseline_rate + significant_rate)\n",
    "required_sample = sms.NormalIndPower().solve_power(effect_size,\n",
    "                                                  power=0.8,\n",
    "                                                  alpha=0.05,\n",
    "                                                  ratio=1)\n",
    "print(\"Required sample size for the test by group: {}\".format(round(required_sample)))"
   ]
  },
  {
   "cell_type": "code",
   "execution_count": 12,
   "metadata": {},
   "outputs": [
    {
     "data": {
      "text/html": [
       "<div>\n",
       "<style scoped>\n",
       "    .dataframe tbody tr th:only-of-type {\n",
       "        vertical-align: middle;\n",
       "    }\n",
       "\n",
       "    .dataframe tbody tr th {\n",
       "        vertical-align: top;\n",
       "    }\n",
       "\n",
       "    .dataframe thead th {\n",
       "        text-align: right;\n",
       "    }\n",
       "</style>\n",
       "<table border=\"1\" class=\"dataframe\">\n",
       "  <thead>\n",
       "    <tr style=\"text-align: right;\">\n",
       "      <th></th>\n",
       "      <th>user_id</th>\n",
       "      <th>timestamp</th>\n",
       "      <th>group</th>\n",
       "      <th>landing_page</th>\n",
       "      <th>converted</th>\n",
       "    </tr>\n",
       "  </thead>\n",
       "  <tbody>\n",
       "    <tr>\n",
       "      <th>45147</th>\n",
       "      <td>890040</td>\n",
       "      <td>2017-01-11 12:26:34.602778</td>\n",
       "      <td>control</td>\n",
       "      <td>old_page</td>\n",
       "      <td>0</td>\n",
       "    </tr>\n",
       "    <tr>\n",
       "      <th>6826</th>\n",
       "      <td>830959</td>\n",
       "      <td>2017-01-08 13:23:53.884029</td>\n",
       "      <td>control</td>\n",
       "      <td>old_page</td>\n",
       "      <td>0</td>\n",
       "    </tr>\n",
       "    <tr>\n",
       "      <th>188829</th>\n",
       "      <td>802182</td>\n",
       "      <td>2017-01-15 06:13:23.109105</td>\n",
       "      <td>control</td>\n",
       "      <td>old_page</td>\n",
       "      <td>0</td>\n",
       "    </tr>\n",
       "    <tr>\n",
       "      <th>254426</th>\n",
       "      <td>751020</td>\n",
       "      <td>2017-01-08 20:31:50.527041</td>\n",
       "      <td>control</td>\n",
       "      <td>old_page</td>\n",
       "      <td>0</td>\n",
       "    </tr>\n",
       "    <tr>\n",
       "      <th>261077</th>\n",
       "      <td>854965</td>\n",
       "      <td>2017-01-03 04:04:00.981359</td>\n",
       "      <td>control</td>\n",
       "      <td>old_page</td>\n",
       "      <td>0</td>\n",
       "    </tr>\n",
       "    <tr>\n",
       "      <th>...</th>\n",
       "      <td>...</td>\n",
       "      <td>...</td>\n",
       "      <td>...</td>\n",
       "      <td>...</td>\n",
       "      <td>...</td>\n",
       "    </tr>\n",
       "    <tr>\n",
       "      <th>67709</th>\n",
       "      <td>715894</td>\n",
       "      <td>2017-01-04 22:30:23.571674</td>\n",
       "      <td>control</td>\n",
       "      <td>old_page</td>\n",
       "      <td>1</td>\n",
       "    </tr>\n",
       "    <tr>\n",
       "      <th>220855</th>\n",
       "      <td>768772</td>\n",
       "      <td>2017-01-07 10:29:32.828241</td>\n",
       "      <td>control</td>\n",
       "      <td>old_page</td>\n",
       "      <td>0</td>\n",
       "    </tr>\n",
       "    <tr>\n",
       "      <th>219400</th>\n",
       "      <td>689807</td>\n",
       "      <td>2017-01-23 21:29:24.889902</td>\n",
       "      <td>control</td>\n",
       "      <td>old_page</td>\n",
       "      <td>0</td>\n",
       "    </tr>\n",
       "    <tr>\n",
       "      <th>190120</th>\n",
       "      <td>847258</td>\n",
       "      <td>2017-01-15 19:18:14.748514</td>\n",
       "      <td>control</td>\n",
       "      <td>old_page</td>\n",
       "      <td>1</td>\n",
       "    </tr>\n",
       "    <tr>\n",
       "      <th>157507</th>\n",
       "      <td>748860</td>\n",
       "      <td>2017-01-12 01:35:47.276017</td>\n",
       "      <td>control</td>\n",
       "      <td>old_page</td>\n",
       "      <td>0</td>\n",
       "    </tr>\n",
       "  </tbody>\n",
       "</table>\n",
       "<p>17209 rows × 5 columns</p>\n",
       "</div>"
      ],
      "text/plain": [
       "        user_id                   timestamp    group landing_page  converted\n",
       "45147    890040  2017-01-11 12:26:34.602778  control     old_page          0\n",
       "6826     830959  2017-01-08 13:23:53.884029  control     old_page          0\n",
       "188829   802182  2017-01-15 06:13:23.109105  control     old_page          0\n",
       "254426   751020  2017-01-08 20:31:50.527041  control     old_page          0\n",
       "261077   854965  2017-01-03 04:04:00.981359  control     old_page          0\n",
       "...         ...                         ...      ...          ...        ...\n",
       "67709    715894  2017-01-04 22:30:23.571674  control     old_page          1\n",
       "220855   768772  2017-01-07 10:29:32.828241  control     old_page          0\n",
       "219400   689807  2017-01-23 21:29:24.889902  control     old_page          0\n",
       "190120   847258  2017-01-15 19:18:14.748514  control     old_page          1\n",
       "157507   748860  2017-01-12 01:35:47.276017  control     old_page          0\n",
       "\n",
       "[17209 rows x 5 columns]"
      ]
     },
     "execution_count": 12,
     "metadata": {},
     "output_type": "execute_result"
    }
   ],
   "source": [
    "required_sample = ceil(required_sample)\n",
    "control_sample = df[df['group'] == 'control'].sample(n=required_sample, random_state=7)\n",
    "control_sample"
   ]
  },
  {
   "cell_type": "code",
   "execution_count": 13,
   "metadata": {},
   "outputs": [
    {
     "data": {
      "text/html": [
       "<div>\n",
       "<style scoped>\n",
       "    .dataframe tbody tr th:only-of-type {\n",
       "        vertical-align: middle;\n",
       "    }\n",
       "\n",
       "    .dataframe tbody tr th {\n",
       "        vertical-align: top;\n",
       "    }\n",
       "\n",
       "    .dataframe thead th {\n",
       "        text-align: right;\n",
       "    }\n",
       "</style>\n",
       "<table border=\"1\" class=\"dataframe\">\n",
       "  <thead>\n",
       "    <tr style=\"text-align: right;\">\n",
       "      <th></th>\n",
       "      <th>user_id</th>\n",
       "      <th>timestamp</th>\n",
       "      <th>group</th>\n",
       "      <th>landing_page</th>\n",
       "      <th>converted</th>\n",
       "    </tr>\n",
       "  </thead>\n",
       "  <tbody>\n",
       "    <tr>\n",
       "      <th>99928</th>\n",
       "      <td>832176</td>\n",
       "      <td>2017-01-06 16:11:33.307903</td>\n",
       "      <td>treatment</td>\n",
       "      <td>new_page</td>\n",
       "      <td>0</td>\n",
       "    </tr>\n",
       "    <tr>\n",
       "      <th>290129</th>\n",
       "      <td>927026</td>\n",
       "      <td>2017-01-06 11:18:41.830874</td>\n",
       "      <td>treatment</td>\n",
       "      <td>new_page</td>\n",
       "      <td>0</td>\n",
       "    </tr>\n",
       "    <tr>\n",
       "      <th>19341</th>\n",
       "      <td>795449</td>\n",
       "      <td>2017-01-16 01:59:38.396882</td>\n",
       "      <td>treatment</td>\n",
       "      <td>new_page</td>\n",
       "      <td>0</td>\n",
       "    </tr>\n",
       "    <tr>\n",
       "      <th>48407</th>\n",
       "      <td>773140</td>\n",
       "      <td>2017-01-15 14:26:40.131475</td>\n",
       "      <td>treatment</td>\n",
       "      <td>new_page</td>\n",
       "      <td>0</td>\n",
       "    </tr>\n",
       "    <tr>\n",
       "      <th>64393</th>\n",
       "      <td>823446</td>\n",
       "      <td>2017-01-10 01:12:57.065832</td>\n",
       "      <td>treatment</td>\n",
       "      <td>new_page</td>\n",
       "      <td>0</td>\n",
       "    </tr>\n",
       "    <tr>\n",
       "      <th>...</th>\n",
       "      <td>...</td>\n",
       "      <td>...</td>\n",
       "      <td>...</td>\n",
       "      <td>...</td>\n",
       "      <td>...</td>\n",
       "    </tr>\n",
       "    <tr>\n",
       "      <th>183682</th>\n",
       "      <td>686164</td>\n",
       "      <td>2017-01-18 16:22:09.625687</td>\n",
       "      <td>treatment</td>\n",
       "      <td>new_page</td>\n",
       "      <td>0</td>\n",
       "    </tr>\n",
       "    <tr>\n",
       "      <th>38910</th>\n",
       "      <td>819026</td>\n",
       "      <td>2017-01-14 11:29:52.191056</td>\n",
       "      <td>treatment</td>\n",
       "      <td>new_page</td>\n",
       "      <td>0</td>\n",
       "    </tr>\n",
       "    <tr>\n",
       "      <th>79504</th>\n",
       "      <td>822789</td>\n",
       "      <td>2017-01-09 11:44:08.236301</td>\n",
       "      <td>treatment</td>\n",
       "      <td>new_page</td>\n",
       "      <td>0</td>\n",
       "    </tr>\n",
       "    <tr>\n",
       "      <th>1674</th>\n",
       "      <td>928811</td>\n",
       "      <td>2017-01-05 21:19:39.878333</td>\n",
       "      <td>treatment</td>\n",
       "      <td>new_page</td>\n",
       "      <td>0</td>\n",
       "    </tr>\n",
       "    <tr>\n",
       "      <th>8681</th>\n",
       "      <td>737330</td>\n",
       "      <td>2017-01-20 20:15:36.881693</td>\n",
       "      <td>treatment</td>\n",
       "      <td>new_page</td>\n",
       "      <td>0</td>\n",
       "    </tr>\n",
       "  </tbody>\n",
       "</table>\n",
       "<p>17209 rows × 5 columns</p>\n",
       "</div>"
      ],
      "text/plain": [
       "        user_id                   timestamp      group landing_page  converted\n",
       "99928    832176  2017-01-06 16:11:33.307903  treatment     new_page          0\n",
       "290129   927026  2017-01-06 11:18:41.830874  treatment     new_page          0\n",
       "19341    795449  2017-01-16 01:59:38.396882  treatment     new_page          0\n",
       "48407    773140  2017-01-15 14:26:40.131475  treatment     new_page          0\n",
       "64393    823446  2017-01-10 01:12:57.065832  treatment     new_page          0\n",
       "...         ...                         ...        ...          ...        ...\n",
       "183682   686164  2017-01-18 16:22:09.625687  treatment     new_page          0\n",
       "38910    819026  2017-01-14 11:29:52.191056  treatment     new_page          0\n",
       "79504    822789  2017-01-09 11:44:08.236301  treatment     new_page          0\n",
       "1674     928811  2017-01-05 21:19:39.878333  treatment     new_page          0\n",
       "8681     737330  2017-01-20 20:15:36.881693  treatment     new_page          0\n",
       "\n",
       "[17209 rows x 5 columns]"
      ]
     },
     "execution_count": 13,
     "metadata": {},
     "output_type": "execute_result"
    }
   ],
   "source": [
    "treat_sample = df[df['group'] == 'treatment'].sample(n=required_sample, random_state=7)\n",
    "treat_sample"
   ]
  },
  {
   "cell_type": "code",
   "execution_count": 14,
   "metadata": {},
   "outputs": [
    {
     "data": {
      "text/html": [
       "<div>\n",
       "<style scoped>\n",
       "    .dataframe tbody tr th:only-of-type {\n",
       "        vertical-align: middle;\n",
       "    }\n",
       "\n",
       "    .dataframe tbody tr th {\n",
       "        vertical-align: top;\n",
       "    }\n",
       "\n",
       "    .dataframe thead th {\n",
       "        text-align: right;\n",
       "    }\n",
       "</style>\n",
       "<table border=\"1\" class=\"dataframe\">\n",
       "  <thead>\n",
       "    <tr style=\"text-align: right;\">\n",
       "      <th></th>\n",
       "      <th>user_id</th>\n",
       "      <th>timestamp</th>\n",
       "      <th>group</th>\n",
       "      <th>landing_page</th>\n",
       "      <th>converted</th>\n",
       "    </tr>\n",
       "  </thead>\n",
       "  <tbody>\n",
       "    <tr>\n",
       "      <th>0</th>\n",
       "      <td>890040</td>\n",
       "      <td>2017-01-11 12:26:34.602778</td>\n",
       "      <td>control</td>\n",
       "      <td>old_page</td>\n",
       "      <td>0</td>\n",
       "    </tr>\n",
       "    <tr>\n",
       "      <th>1</th>\n",
       "      <td>830959</td>\n",
       "      <td>2017-01-08 13:23:53.884029</td>\n",
       "      <td>control</td>\n",
       "      <td>old_page</td>\n",
       "      <td>0</td>\n",
       "    </tr>\n",
       "    <tr>\n",
       "      <th>2</th>\n",
       "      <td>802182</td>\n",
       "      <td>2017-01-15 06:13:23.109105</td>\n",
       "      <td>control</td>\n",
       "      <td>old_page</td>\n",
       "      <td>0</td>\n",
       "    </tr>\n",
       "    <tr>\n",
       "      <th>3</th>\n",
       "      <td>751020</td>\n",
       "      <td>2017-01-08 20:31:50.527041</td>\n",
       "      <td>control</td>\n",
       "      <td>old_page</td>\n",
       "      <td>0</td>\n",
       "    </tr>\n",
       "    <tr>\n",
       "      <th>4</th>\n",
       "      <td>854965</td>\n",
       "      <td>2017-01-03 04:04:00.981359</td>\n",
       "      <td>control</td>\n",
       "      <td>old_page</td>\n",
       "      <td>0</td>\n",
       "    </tr>\n",
       "    <tr>\n",
       "      <th>...</th>\n",
       "      <td>...</td>\n",
       "      <td>...</td>\n",
       "      <td>...</td>\n",
       "      <td>...</td>\n",
       "      <td>...</td>\n",
       "    </tr>\n",
       "    <tr>\n",
       "      <th>34413</th>\n",
       "      <td>686164</td>\n",
       "      <td>2017-01-18 16:22:09.625687</td>\n",
       "      <td>treatment</td>\n",
       "      <td>new_page</td>\n",
       "      <td>0</td>\n",
       "    </tr>\n",
       "    <tr>\n",
       "      <th>34414</th>\n",
       "      <td>819026</td>\n",
       "      <td>2017-01-14 11:29:52.191056</td>\n",
       "      <td>treatment</td>\n",
       "      <td>new_page</td>\n",
       "      <td>0</td>\n",
       "    </tr>\n",
       "    <tr>\n",
       "      <th>34415</th>\n",
       "      <td>822789</td>\n",
       "      <td>2017-01-09 11:44:08.236301</td>\n",
       "      <td>treatment</td>\n",
       "      <td>new_page</td>\n",
       "      <td>0</td>\n",
       "    </tr>\n",
       "    <tr>\n",
       "      <th>34416</th>\n",
       "      <td>928811</td>\n",
       "      <td>2017-01-05 21:19:39.878333</td>\n",
       "      <td>treatment</td>\n",
       "      <td>new_page</td>\n",
       "      <td>0</td>\n",
       "    </tr>\n",
       "    <tr>\n",
       "      <th>34417</th>\n",
       "      <td>737330</td>\n",
       "      <td>2017-01-20 20:15:36.881693</td>\n",
       "      <td>treatment</td>\n",
       "      <td>new_page</td>\n",
       "      <td>0</td>\n",
       "    </tr>\n",
       "  </tbody>\n",
       "</table>\n",
       "<p>34418 rows × 5 columns</p>\n",
       "</div>"
      ],
      "text/plain": [
       "       user_id                   timestamp      group landing_page  converted\n",
       "0       890040  2017-01-11 12:26:34.602778    control     old_page          0\n",
       "1       830959  2017-01-08 13:23:53.884029    control     old_page          0\n",
       "2       802182  2017-01-15 06:13:23.109105    control     old_page          0\n",
       "3       751020  2017-01-08 20:31:50.527041    control     old_page          0\n",
       "4       854965  2017-01-03 04:04:00.981359    control     old_page          0\n",
       "...        ...                         ...        ...          ...        ...\n",
       "34413   686164  2017-01-18 16:22:09.625687  treatment     new_page          0\n",
       "34414   819026  2017-01-14 11:29:52.191056  treatment     new_page          0\n",
       "34415   822789  2017-01-09 11:44:08.236301  treatment     new_page          0\n",
       "34416   928811  2017-01-05 21:19:39.878333  treatment     new_page          0\n",
       "34417   737330  2017-01-20 20:15:36.881693  treatment     new_page          0\n",
       "\n",
       "[34418 rows x 5 columns]"
      ]
     },
     "execution_count": 14,
     "metadata": {},
     "output_type": "execute_result"
    }
   ],
   "source": [
    "ab_test = pd.concat([control_sample, treat_sample]).reset_index(drop=True)\n",
    "ab_test"
   ]
  },
  {
   "cell_type": "markdown",
   "metadata": {},
   "source": [
    "#### Basic statistics"
   ]
  },
  {
   "cell_type": "raw",
   "metadata": {},
   "source": [
    "Statistics about the samples choosed"
   ]
  },
  {
   "cell_type": "code",
   "execution_count": 15,
   "metadata": {},
   "outputs": [
    {
     "data": {
      "text/html": [
       "<style  type=\"text/css\" >\n",
       "</style><table id=\"T_030b7_\" ><thead>    <tr>        <th class=\"blank level0\" ></th>        <th class=\"col_heading level0 col0\" >conversion_rate</th>        <th class=\"col_heading level0 col1\" >std_deviation</th>        <th class=\"col_heading level0 col2\" >std_error</th>    </tr>    <tr>        <th class=\"index_name level0\" >group</th>        <th class=\"blank\" ></th>        <th class=\"blank\" ></th>        <th class=\"blank\" ></th>    </tr></thead><tbody>\n",
       "                <tr>\n",
       "                        <th id=\"T_030b7_level0_row0\" class=\"row_heading level0 row0\" >control</th>\n",
       "                        <td id=\"T_030b7_row0_col0\" class=\"data row0 col0\" >0.124</td>\n",
       "                        <td id=\"T_030b7_row0_col1\" class=\"data row0 col1\" >0.330</td>\n",
       "                        <td id=\"T_030b7_row0_col2\" class=\"data row0 col2\" >0.003</td>\n",
       "            </tr>\n",
       "            <tr>\n",
       "                        <th id=\"T_030b7_level0_row1\" class=\"row_heading level0 row1\" >treatment</th>\n",
       "                        <td id=\"T_030b7_row1_col0\" class=\"data row1 col0\" >0.123</td>\n",
       "                        <td id=\"T_030b7_row1_col1\" class=\"data row1 col1\" >0.329</td>\n",
       "                        <td id=\"T_030b7_row1_col2\" class=\"data row1 col2\" >0.003</td>\n",
       "            </tr>\n",
       "    </tbody></table>"
      ],
      "text/plain": [
       "<pandas.io.formats.style.Styler at 0x1bca7194ca0>"
      ]
     },
     "execution_count": 15,
     "metadata": {},
     "output_type": "execute_result"
    }
   ],
   "source": [
    "conversion_rates = ab_test.groupby('group')['converted'].agg([np.mean,\n",
    "                                                              np.std,\n",
    "                                                              stats.sem])\n",
    "conversion_rates.columns = ['conversion_rate', 'std_deviation', 'std_error']\n",
    "conversion_rates.style.format('{:.3f}')"
   ]
  },
  {
   "cell_type": "markdown",
   "metadata": {},
   "source": [
    "Looks like the designs have the same performance. The old design performing a little better, 12.4% vs. 12.3% conversion rate."
   ]
  },
  {
   "cell_type": "markdown",
   "metadata": {},
   "source": [
    "#### Visualising the results"
   ]
  },
  {
   "cell_type": "code",
   "execution_count": 16,
   "metadata": {},
   "outputs": [
    {
     "data": {
      "image/png": "[encoded data removed]",
      "text/plain": [
       "<Figure size 576x432 with 1 Axes>"
      ]
     },
     "metadata": {
      "needs_background": "light"
     },
     "output_type": "display_data"
    }
   ],
   "source": [
    "plt.figure(figsize=(8,6))\n",
    "sns.barplot(x=ab_test['group'], y=ab_test['converted'], ci=False)\n",
    "plt.ylim(0, 0.17)\n",
    "plt.title('Conversion rate by group', pad=20)\n",
    "plt.xlabel('Group', labelpad=15)\n",
    "plt.ylabel('Converted (proportion)', labelpad=15);"
   ]
  },
  {
   "cell_type": "code",
   "execution_count": 17,
   "metadata": {},
   "outputs": [
    {
     "data": {
      "image/png": "[encoded data removed]",
      "text/plain": [
       "<Figure size 432x288 with 1 Axes>"
      ]
     },
     "metadata": {
      "needs_background": "light"
     },
     "output_type": "display_data"
    }
   ],
   "source": [
    "ab_test.groupby('group')['converted'].value_counts().unstack(level=1).plot.bar()\n",
    "j = 0\n",
    "for i in ab_test.groupby('group')['converted'].value_counts().unstack(level=1).values:\n",
    "        plt.text(j - .2, i[0]+200, i[0], color='black')\n",
    "        plt.text(j + .01, i[1]+200, i[1], color='black')\n",
    "        j += 1        \n",
    "plt.ylabel('Number of user')\n",
    "plt.xlabel('Groups')\n",
    "plt.title('Groups by convertion')\n",
    "plt.ylim(0, 16500)\n",
    "plt.show()"
   ]
  },
  {
   "cell_type": "raw",
   "metadata": {},
   "source": [
    "The control group's conversion rate is a little higher than we would have expected given what we knew about the average. This shows that there is some variation in the results when sampling from a population."
   ]
  },
  {
   "cell_type": "markdown",
   "metadata": {},
   "source": [
    "#### Testing the hypothesis"
   ]
  },
  {
   "cell_type": "raw",
   "metadata": {},
   "source": [
    "Is the difference between control and treatment groups statistically significant?\n",
    "As we have a large sample, we can use the normal aproximation for calculating the p-value.So, we use the Z-test. "
   ]
  },
  {
   "cell_type": "code",
   "execution_count": 18,
   "metadata": {},
   "outputs": [],
   "source": [
    "control_results = ab_test[ab_test['group'] == 'control']['converted']\n",
    "treat_results = ab_test[ab_test['group'] == 'treatment']['converted']\n",
    "\n",
    "control_samples = control_results.count()\n",
    "treat_samples = treat_results.count()\n",
    "successes = [control_results.sum(), treat_results.sum()]\n",
    "nobs = [control_samples, treat_samples]"
   ]
  },
  {
   "cell_type": "code",
   "execution_count": 19,
   "metadata": {},
   "outputs": [],
   "source": [
    "control_samples = control_results.count()\n",
    "treat_samples = treat_results.count()\n",
    "successes = [control_results.sum(), treat_results.sum()]\n",
    "nobs = [control_samples, treat_samples]"
   ]
  },
  {
   "cell_type": "code",
   "execution_count": 20,
   "metadata": {},
   "outputs": [],
   "source": [
    "z_stat, p_value = proportions_ztest(successes, nobs=nobs)\n",
    "(lower_con, lower_treat), (upper_con, upper_treat) = proportion_confint(successes, nobs=nobs, alpha=0.05)"
   ]
  },
  {
   "cell_type": "code",
   "execution_count": 21,
   "metadata": {},
   "outputs": [
    {
     "name": "stdout",
     "output_type": "stream",
     "text": [
      "z statistic: 0.21\n",
      "p-value: 0.831\n",
      "ci 95% for control group: [0.119, 0.129]\n",
      "ci 95% for treatment group: [0.118, 0.128]\n"
     ]
    }
   ],
   "source": [
    "print(f'z statistic: {z_stat:.2f}')\n",
    "print(f'p-value: {p_value:.3f}')\n",
    "print(f'ci 95% for control group: [{lower_con:.3f}, {upper_con:.3f}]')\n",
    "print(f'ci 95% for treatment group: [{lower_treat:.3f}, {upper_treat:.3f}]')"
   ]
  },
  {
   "cell_type": "raw",
   "metadata": {},
   "source": [
    "Do not reject the null hypothesis"
   ]
  },
  {
   "cell_type": "markdown",
   "metadata": {},
   "source": [
    "#### Drawing conclusions"
   ]
  },
  {
   "cell_type": "raw",
   "metadata": {},
   "source": [
    "- As the p-value is greater than Confidence level (Alpha (α)), we don't reject  the null hypothesis.So, the new design did not perform significantly different than the old one.\n",
    "- In the confidence interval of the treatment group. We can see that It includes the baseline rate of 12.04% but not include our significance rate of 13.04% (0.01 + 0.1204).\n",
    "\n",
    "With this we can conclude that the new design is similar to the old desing and it didn't have an improvement. So we have to think of another design. \n"
   ]
  },
  {
   "cell_type": "code",
   "execution_count": null,
   "metadata": {},
   "outputs": [],
   "source": []
  },
  {
   "cell_type": "markdown",
   "metadata": {},
   "source": [
    "#### If we use all the data"
   ]
  },
  {
   "cell_type": "code",
   "execution_count": 22,
   "metadata": {},
   "outputs": [],
   "source": [
    "control_sample = df[df['group'] == 'control'].sample(n=145274, random_state=7)\n",
    "treat_sample = df[df['group'] == 'treatment'].sample(n=145274, random_state=7)\n",
    "ab_test = pd.concat([control_sample, treat_sample]).reset_index(drop=True)"
   ]
  },
  {
   "cell_type": "code",
   "execution_count": 23,
   "metadata": {},
   "outputs": [
    {
     "data": {
      "text/html": [
       "<style  type=\"text/css\" >\n",
       "</style><table id=\"T_796df_\" ><thead>    <tr>        <th class=\"blank level0\" ></th>        <th class=\"col_heading level0 col0\" >conversion_rate</th>        <th class=\"col_heading level0 col1\" >std_deviation</th>        <th class=\"col_heading level0 col2\" >std_error</th>    </tr>    <tr>        <th class=\"index_name level0\" >group</th>        <th class=\"blank\" ></th>        <th class=\"blank\" ></th>        <th class=\"blank\" ></th>    </tr></thead><tbody>\n",
       "                <tr>\n",
       "                        <th id=\"T_796df_level0_row0\" class=\"row_heading level0 row0\" >control</th>\n",
       "                        <td id=\"T_796df_row0_col0\" class=\"data row0 col0\" >0.120</td>\n",
       "                        <td id=\"T_796df_row0_col1\" class=\"data row0 col1\" >0.325</td>\n",
       "                        <td id=\"T_796df_row0_col2\" class=\"data row0 col2\" >0.001</td>\n",
       "            </tr>\n",
       "            <tr>\n",
       "                        <th id=\"T_796df_level0_row1\" class=\"row_heading level0 row1\" >treatment</th>\n",
       "                        <td id=\"T_796df_row1_col0\" class=\"data row1 col0\" >0.119</td>\n",
       "                        <td id=\"T_796df_row1_col1\" class=\"data row1 col1\" >0.324</td>\n",
       "                        <td id=\"T_796df_row1_col2\" class=\"data row1 col2\" >0.001</td>\n",
       "            </tr>\n",
       "    </tbody></table>"
      ],
      "text/plain": [
       "<pandas.io.formats.style.Styler at 0x1bcbe575d30>"
      ]
     },
     "execution_count": 23,
     "metadata": {},
     "output_type": "execute_result"
    }
   ],
   "source": [
    "conversion_rates = ab_test.groupby('group')['converted'].agg([np.mean,\n",
    "                                                              np.std,\n",
    "                                                              stats.sem])\n",
    "conversion_rates.columns = ['conversion_rate', 'std_deviation', 'std_error']\n",
    "conversion_rates.style.format('{:.3f}')"
   ]
  },
  {
   "cell_type": "code",
   "execution_count": 24,
   "metadata": {},
   "outputs": [],
   "source": [
    "control_results = df[df['group'] == 'control']['converted']\n",
    "treat_results = df[df['group'] == 'treatment']['converted']\n",
    "\n",
    "control_samples = control_results.count()\n",
    "treat_samples = treat_results.count()\n",
    "successes = [control_results.sum(), treat_results.sum()]\n",
    "nobs = [control_samples, treat_samples]"
   ]
  },
  {
   "cell_type": "code",
   "execution_count": 25,
   "metadata": {},
   "outputs": [],
   "source": [
    "control_samples = control_results.count()\n",
    "treat_samples = treat_results.count()\n",
    "successes = [control_results.sum(), treat_results.sum()]\n",
    "nobs = [control_samples, treat_samples]"
   ]
  },
  {
   "cell_type": "code",
   "execution_count": 26,
   "metadata": {},
   "outputs": [],
   "source": [
    "z_stat, p_value = proportions_ztest(successes, nobs=nobs)\n",
    "(lower_con, lower_treat), (upper_con, upper_treat) = proportion_confint(successes, nobs=nobs, alpha=0.05)"
   ]
  },
  {
   "cell_type": "code",
   "execution_count": 27,
   "metadata": {},
   "outputs": [
    {
     "name": "stdout",
     "output_type": "stream",
     "text": [
      "z statistic: 1.31\n",
      "p-value: 0.190\n",
      "ci 95% for control group: [0.119, 0.122]\n",
      "ci 95% for treatment group: [0.1171, 0.1205]\n"
     ]
    }
   ],
   "source": [
    "print(f'z statistic: {z_stat:.2f}')\n",
    "print(f'p-value: {p_value:.3f}')\n",
    "print(f'ci 95% for control group: [{lower_con:.3f}, {upper_con:.3f}]')\n",
    "print(f'ci 95% for treatment group: [{lower_treat:.4f}, {upper_treat:.4f}]')"
   ]
  },
  {
   "cell_type": "raw",
   "metadata": {},
   "source": [
    "We got the same result because we took a cosiderable proportion of samples"
   ]
  }
 ],
 "metadata": {
  "kernelspec": {
   "display_name": "data_analysis",
   "language": "python",
   "name": "data_analysis"
  },
  "language_info": {
   "codemirror_mode": {
    "name": "ipython",
    "version": 3
   },
   "file_extension": ".py",
   "mimetype": "text/x-python",
   "name": "python",
   "nbconvert_exporter": "python",
   "pygments_lexer": "ipython3",
   "version": "3.8.5"
  }
 },
 "nbformat": 4,
 "nbformat_minor": 4
}
